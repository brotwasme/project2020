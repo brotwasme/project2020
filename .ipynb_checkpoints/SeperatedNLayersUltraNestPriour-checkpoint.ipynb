{
 "cells": [
  {
   "cell_type": "markdown",
   "metadata": {},
   "source": [
    "all plots of interest for fitting models of 1-4 layers to data of a 3 layer model."
   ]
  },
  {
   "cell_type": "markdown",
   "metadata": {},
   "source": [
    "for each above has no limit on max thickness\\\n"
   ]
  },
  {
   "cell_type": "code",
   "execution_count": 1,
   "metadata": {
    "scrolled": true
   },
   "outputs": [
    {
     "name": "stdout",
     "output_type": "stream",
     "text": [
      "refnx: 0.1.16\n",
      "scipy: 1.5.0\n",
      "numpy: 1.18.5\n",
      "refnx: 0.1.16\n",
      "scipy: 1.5.0\n",
      "numpy: 1.18.5\n"
     ]
    }
   ],
   "source": [
    "import os.path\n",
    "import numpy as np\n",
    "import matplotlib.pyplot as plt\n",
    "import scipy\n",
    "import refnx\n",
    "from refnx.dataset import ReflectDataset, Data1D\n",
    "from refnx.analysis import Transform, CurveFitter, Objective, Model, Parameter\n",
    "from refnx.reflect import SLD, Slab, ReflectModel\n",
    "from refnx._lib import flatten\n",
    "from refnx._lib import unique as f_unique\n",
    "from sepObjectiveDiffPriors import getObjective as gO\n",
    "from sepObjectiveDiffPriors import variable\n",
    "# from dynesty import DynamicNestedSampler\n",
    "# from dynesty import plotting as dyplot\n",
    "import ultranest\n",
    "from ultranest.plot import cornerplot\n",
    "# from DynestyInterface import CFitter\n",
    "import make_sim_data as msd\n",
    "print('refnx: %s\\nscipy: %s\\nnumpy: %s' % (refnx.version.version,\n",
    "                   scipy.version.version, np.version.version));\n"
   ]
  },
  {
   "cell_type": "code",
   "execution_count": 2,
   "metadata": {},
   "outputs": [],
   "source": [
    "# def prior_transfom(unitVolume, function):\n",
    "    "
   ]
  },
  {
   "cell_type": "code",
   "execution_count": 3,
   "metadata": {},
   "outputs": [],
   "source": [
    "maxLength = 350\n",
    "def logp_extra(model, data=None):\n",
    "    returns = 0\n",
    "    if sum(model.structure.slabs()[1:-1,0])>maxLength:\n",
    "        returns = -np.inf\n",
    "    return returns"
   ]
  },
  {
   "cell_type": "code",
   "execution_count": 4,
   "metadata": {},
   "outputs": [
    {
     "name": "stdout",
     "output_type": "stream",
     "text": [
      "done\n"
     ]
    }
   ],
   "source": [
    "figI = 0\n",
    "# simple structure\n",
    "thicks_true = [10,120,100,130,10]\n",
    "bs_true = [0,5,4.5,5,10]\n",
    "roughs_true = [0,0,0,0,0]\n",
    "# bs = [5,4.5,5]\n",
    "# thicks = [120,100,130]\n",
    "# roughs = [0,0,0]\n",
    "bs = bs_true\n",
    "thicks = thicks_true\n",
    "roughs = roughs_true\n",
    "loss = 1.\n",
    "no_layers = len(bs)\n",
    "# no_layers = len(bs_true)\n",
    "# no_layers = 3\n",
    "layers1 = []\n",
    "layers2 = []\n",
    "names = []\n",
    "#names = ['layer1','layer2']\n",
    "contrast_layer = 1\n",
    "bs_contrast_layer = 6\n",
    "thicks_contrast_layer=Parameter(thicks[contrast_layer],\n",
    "                                \"layer1 thickness\")\n",
    "roughs_contrast_layer=Parameter(roughs[contrast_layer],\n",
    "                                \"layer0/contrast roughness\")\n",
    "for i in range(no_layers):\n",
    "    names.append('layer'+str(i))\n",
    "for i in range(no_layers):\n",
    "    if i != contrast_layer:\n",
    "        sld = SLD(bs[i],name=names[i])\n",
    "        sld = sld(thicks[i],roughs[i])\n",
    "        layers1.append(sld)\n",
    "        layers2.append(sld)\n",
    "    else:\n",
    "        sld1 = SLD(bs[i],name=names[i]+\" contrast a\")\n",
    "        sld1 = sld1(thicks_contrast_layer,roughs_contrast_layer)\n",
    "        sld2 = SLD(bs_contrast_layer,name=names[i]+\" contrast b\")\n",
    "        sld2 = sld2(thicks_contrast_layer,roughs_contrast_layer)\n",
    "        layers1.append(sld1)\n",
    "        layers2.append(sld2)\n",
    "\n",
    "structure1 = layers1[0]\n",
    "for layer in layers1[1:]:\n",
    "    structure1|=layer\n",
    "\n",
    "structure2 = layers2[0]\n",
    "for layer in layers2[1:]:\n",
    "    structure2|=layer\n",
    "print(\"done\")"
   ]
  },
  {
   "cell_type": "code",
   "execution_count": 5,
   "metadata": {
    "scrolled": false
   },
   "outputs": [
    {
     "data": {
      "image/png": "[encoded data removed]",
      "text/plain": [
       "<Figure size 432x288 with 1 Axes>"
      ]
     },
     "metadata": {
      "needs_background": "light"
     },
     "output_type": "display_data"
    }
   ],
   "source": [
    "%matplotlib inline\n",
    "# plt.rcParams['figure.figsize'] = [9.5, 6]\n",
    "plt.figure(figI)\n",
    "figI+=1\n",
    "plt.plot(*structure1.sld_profile())\n",
    "plt.ylabel('SLD /$10^{-6} \\AA^{-2}$')\n",
    "plt.xlabel('distance / $\\AA$');\n",
    "\n",
    "# plt.figure(figI)\n",
    "# figI+=1\n",
    "# plt.plot(*structure2.sld_profile())\n",
    "# plt.ylabel('SLD /$10^{-6} \\AA^{-2}$')\n",
    "# plt.xlabel('distance / $\\AA$');\n",
    "# print(\"done\")"
   ]
  },
  {
   "cell_type": "code",
   "execution_count": 6,
   "metadata": {},
   "outputs": [],
   "source": [
    "resolution = 5.\n",
    "model1 = ReflectModel(structure1, bkg=3e-6, dq=resolution)\n",
    "model2 = ReflectModel(structure2, bkg=3e-6, dq=resolution)"
   ]
  },
  {
   "cell_type": "code",
   "execution_count": 7,
   "metadata": {},
   "outputs": [
    {
     "name": "stdout",
     "output_type": "stream",
     "text": [
      "csv\n",
      "cvs-collecting\n",
      "out  [2.01464799e+02 7.28262110e+01 8.04847837e+03 8.78133049e-19\n",
      " 1.65301989e-05] \n",
      "var:  [[2.37035370e+01 1.32256391e+02 5.92624404e-01 7.01383237e+04\n",
      "  8.07503239e-05]\n",
      " [1.32256391e+02 7.38288156e+02 3.30638742e+00 4.13426355e+05\n",
      "  4.52656248e-04]\n",
      " [5.92624404e-01 3.30638742e+00 1.48166520e-02 1.73947331e+03\n",
      "  2.01753978e-06]\n",
      " [7.01383237e+04 4.13426355e+05 1.73947331e+03 1.60220079e+09\n",
      "  3.71650935e-01]\n",
      " [8.07503239e-05 4.52656248e-04 2.01753978e-06 3.71650935e-01\n",
      "  2.92283331e-10]]\n"
     ]
    },
    {
     "data": {
      "image/png": "[encoded data removed]",
      "text/plain": [
       "<Figure size 432x288 with 1 Axes>"
      ]
     },
     "metadata": {
      "needs_background": "light"
     },
     "output_type": "display_data"
    }
   ],
   "source": [
    "q = np.linspace(0.005, 0.3, 70)# was 1001 no 70\n",
    "plt.figure(figI)\n",
    "figI+=1\n",
    "R1 = model1(q, x_err=resolution)\n",
    "plt.plot(q, R1)\n",
    "plt.xlabel('Q')\n",
    "plt.ylabel('Reflectivity')\n",
    "plt.yscale('log')\n",
    "sim_dR1 = msd.main(sim_q=q,sim_R=R1)*10\n",
    "plt.errorbar(q,R1,sim_dR1, alpha=0.4);\n",
    "\n",
    "# q = np.linspace(0.005, 0.3, 70)# was 1001 no 70\n",
    "# plt.figure(figI)\n",
    "# figI+=1\n",
    "# R2 = model2(q, x_err=resolution)\n",
    "# plt.plot(q, R2)\n",
    "# plt.xlabel('Q')\n",
    "# plt.ylabel('Reflectivity')\n",
    "# plt.yscale('log')\n",
    "# sim_dR2 = msd.main(sim_q=q,sim_R=R2)*10\n",
    "# plt.errorbar(q,R2,sim_dR2, alpha=0.4)"
   ]
  },
  {
   "cell_type": "code",
   "execution_count": 8,
   "metadata": {},
   "outputs": [],
   "source": [
    "data = Data1D(data= (q,R1,sim_dR1))#,Data1D(data= (q,R2,sim_dR2))]"
   ]
  },
  {
   "cell_type": "code",
   "execution_count": 9,
   "metadata": {},
   "outputs": [],
   "source": [
    "# percentRange_s=[1,2.5,5,10,15]\n",
    "percentRanges=[1,5,7.5,10,15]"
   ]
  },
  {
   "cell_type": "markdown",
   "metadata": {},
   "source": [
    "## 1 layered"
   ]
  },
  {
   "cell_type": "code",
   "execution_count": null,
   "metadata": {
    "scrolled": false
   },
   "outputs": [
    {
     "name": "stdout",
     "output_type": "stream",
     "text": [
      "Creating directory for new run ultraNestpriours\\sizeVariation\\layer1\\run1\n",
      "[ultranest] PointStore: have 0 items\n",
      "[ultranest] Sampling 400 live points from prior ...\n"
     ]
    },
    {
     "data": {
      "application/vnd.jupyter.widget-view+json": {
       "model_id": "17adbc4429004a8a84f090a8f464abdb",
       "version_major": 2,
       "version_minor": 0
      },
      "text/plain": [
       "VBox(children=(HTML(value=''), GridspecLayout(children=(HTML(value=\"<div style='background-color:#6E6BF4;'>&nb…"
      ]
     },
     "metadata": {},
     "output_type": "display_data"
    },
    {
     "name": "stdout",
     "output_type": "stream",
     "text": [
      "[ultranest] Explored until L=7e+01  68.1291..68.1292]*| it/evals=3222/4502 eff=78.5471% N=400 \n",
      "[ultranest] Likelihood function evaluations: 4504\n",
      "[ultranest] Writing samples and results to disk ...\n",
      "[ultranest] Writing samples and results to disk ... done\n",
      "[ultranest]   logZ = 64.72 +- 0.04306\n",
      "[ultranest] Effective samples strategy satisfied (ESS = 1806.0, need >400)\n",
      "[ultranest] Posterior uncertainty strategy is satisfied (KL: 0.45+-0.05 nat, need <0.50 nat)\n",
      "[ultranest] Evidency uncertainty strategy is satisfied (dlogz=0.15, need <0.5)\n",
      "[ultranest]   logZ error budget: single: 0.07 bs:0.04 tail:0.01 total:0.04 required:<0.50\n",
      "[ultranest] done iterating.\n",
      "\n",
      "logZ = 64.697 +- 0.151\n",
      "  single instance: logZ = 64.697 +- 0.072\n",
      "  bootstrapped   : logZ = 64.725 +- 0.151\n",
      "  tail           : logZ = +- 0.010\n",
      "\n",
      "    layer1 - thick      350.21 +- 0.41\n",
      "    layer1 - sld        4.779 +- 0.017\n",
      "Creating directory for new run ultraNestpriours\\sizeVariation\\layer1\\run2\n",
      "[ultranest] PointStore: have 0 items\n",
      "[ultranest] Sampling 400 live points from prior ...\n"
     ]
    },
    {
     "data": {
      "application/vnd.jupyter.widget-view+json": {
       "model_id": "c79fd1de869e4ec496685e81edff6391",
       "version_major": 2,
       "version_minor": 0
      },
      "text/plain": [
       "VBox(children=(HTML(value=''), GridspecLayout(children=(HTML(value=\"<div style='background-color:#6E6BF4;'>&nb…"
      ]
     },
     "metadata": {},
     "output_type": "display_data"
    },
    {
     "name": "stdout",
     "output_type": "stream",
     "text": [
      "[ultranest] Explored until L=7e+01  71.7251..71.7251]*| it/evals=3920/5469 eff=77.3328% N=400 00   \n",
      "[ultranest] Likelihood function evaluations: 5472\n",
      "[ultranest] Writing samples and results to disk ...\n",
      "[ultranest] Writing samples and results to disk ... done\n",
      "[ultranest]   logZ = 66.51 +- 0.06276\n",
      "[ultranest] Effective samples strategy satisfied (ESS = 1531.8, need >400)\n",
      "[ultranest] Posterior uncertainty strategy is satisfied (KL: 0.45+-0.06 nat, need <0.50 nat)\n",
      "[ultranest] Evidency uncertainty strategy is satisfied (dlogz=0.14, need <0.5)\n",
      "[ultranest]   logZ error budget: single: 0.10 bs:0.06 tail:0.01 total:0.06 required:<0.50\n",
      "[ultranest] done iterating.\n",
      "\n",
      "logZ = 66.526 +- 0.106\n",
      "  single instance: logZ = 66.526 +- 0.104\n",
      "  bootstrapped   : logZ = 66.507 +- 0.106\n",
      "  tail           : logZ = +- 0.010\n",
      "\n",
      "    layer1 - thick      350.95 +- 0.45\n",
      "    layer1 - sld        4.928 +- 0.042\n",
      "Creating directory for new run ultraNestpriours\\sizeVariation\\layer1\\run3\n",
      "[ultranest] PointStore: have 0 items\n",
      "[ultranest] Sampling 400 live points from prior ...\n"
     ]
    }
   ],
   "source": [
    "%%time\n",
    "for i in percentRanges:\n",
    "    startPointT = 350.\n",
    "    startPointSld = (5.+4.5)/2\n",
    "    thicknesses = [variable(startPointT, startPointT-startPointT*i/100, startPointT+startPointT*i/100)]\n",
    "    slds = [variable(startPointSld, startPointSld-startPointSld*i/100, startPointSld+startPointSld*i/100)]\n",
    "    objective1, structure11 = gO(data, thicknesses, slds, layerNames=[\"layer1\"]) # was 06:09 now 0:36\n",
    "    # fitter = CFitter(objective1)\n",
    "    parameter_names1 = list( p.name for p in objective1.varying_parameters() )\n",
    "    UNSampler1 = ultranest.ReactiveNestedSampler(parameter_names1, objective1.logl, objective1.prior_transform,\n",
    "                log_dir=\"ultraNestpriours\\sizeVariation\\layer1\", resume=\"subfolder\")\n",
    "    result1 = UNSampler1.run() # was 0.01\n",
    "    UNSampler1.print_results()\n",
    "    UNSampler1.plot()\n",
    "    UNSampler1.plot_trace()\n",
    "    cornerplot(result1)\n",
    "#     fig = plt.figure(figI)\n",
    "#     fig1, ax = objective1.plot(fig=fig)\n",
    "#     figI+=1\n",
    "#     plt.figure(figI)\n",
    "#     figI+=1\n",
    "#     plt.plot(*structure11.sld_profile())\n",
    "#     plt.ylabel('SLD /$10^{-6} \\AA^{-2}$')\n",
    "#     plt.xlabel('distance / $\\AA$');"
   ]
  },
  {
   "cell_type": "code",
   "execution_count": null,
   "metadata": {},
   "outputs": [],
   "source": []
  },
  {
   "cell_type": "markdown",
   "metadata": {},
   "source": []
  },
  {
   "cell_type": "code",
   "execution_count": null,
   "metadata": {},
   "outputs": [],
   "source": [
    "\n",
    "# plt.figure(figI)\n",
    "# figI+=1\n",
    "# plt.plot(*structure12.sld_profile())\n",
    "# plt.ylabel('SLD /$10^{-6} \\AA^{-2}$')\n",
    "# plt.xlabel('distance / $\\AA$');\n",
    "\n",
    "# fig, ax = objective2.plot()\n",
    "# figI+=1\n",
    "# plt.figure(figI)\n",
    "# figI+=1\n",
    "# plt.plot(*structure21.sld_profile())\n",
    "# plt.ylabel('SLD /$10^{-6} \\AA^{-2}$')\n",
    "# plt.xlabel('distance / $\\AA$');\n",
    "# plt.figure(figI)\n",
    "# figI+=1\n",
    "# plt.plot(*structure22.sld_profile())\n",
    "# plt.ylabel('SLD /$10^{-6} \\AA^{-2}$')\n",
    "# plt.xlabel('distance / $\\AA$');"
   ]
  },
  {
   "cell_type": "markdown",
   "metadata": {},
   "source": [
    "## 2 layered"
   ]
  },
  {
   "cell_type": "code",
   "execution_count": null,
   "metadata": {
    "scrolled": false
   },
   "outputs": [],
   "source": [
    "%%time\n",
    "for i in percentRanges:\n",
    "    startPointT = 350./2\n",
    "    startPointSld = (5.+4.5)/2\n",
    "    thicknesses = [variable(startPointT, startPointT-startPointT*i/100, startPointT+startPointT*i/100),\n",
    "                  variable(startPointT, startPointT-startPointT*i/100, startPointT+startPointT*i/100)]\n",
    "    slds = [variable(startPointSld, startPointSld-startPointSld*i/100, startPointSld+startPointSld*i/100),\n",
    "           variable(startPointSld, startPointSld-startPointSld*i/100, startPointSld+startPointSld*i/100)]\n",
    "    objective2, structure21 = gO(data, thicknesses, slds, layerNames=[\"layer1\", \"layer2\"]) # was 06:09 now 0:36\n",
    "    # fitter = CFitter(objective1)\n",
    "    parameter_names2 = list( p.name for p in objective2.varying_parameters() )\n",
    "    UNSampler2 = ultranest.ReactiveNestedSampler(parameter_names2, objective2.logl, objective2.prior_transform,\n",
    "                log_dir=\"ultraNestpriours\\sizeVariation\\layer2\", resume=\"subfolder\")\n",
    "    result2 = UNSampler2.run() # was 0.01\n",
    "    UNSampler2.print_results()\n",
    "    UNSampler2.plot()\n",
    "    UNSampler2.plot_trace()\n",
    "    cornerplot(result2)"
   ]
  },
  {
   "cell_type": "code",
   "execution_count": null,
   "metadata": {},
   "outputs": [],
   "source": []
  },
  {
   "cell_type": "markdown",
   "metadata": {},
   "source": []
  },
  {
   "cell_type": "code",
   "execution_count": null,
   "metadata": {
    "scrolled": true
   },
   "outputs": [],
   "source": []
  },
  {
   "cell_type": "markdown",
   "metadata": {},
   "source": [
    "## 3 layered"
   ]
  },
  {
   "cell_type": "code",
   "execution_count": null,
   "metadata": {},
   "outputs": [],
   "source": [
    "%%time\n",
    "for i in percentRanges:\n",
    "    startPointT = 350./3\n",
    "    startPointSld = (5.+4.5)/2\n",
    "    thicknesses = [variable(startPointT, startPointT-startPointT*i/100, startPointT+startPointT*i/100),\n",
    "                  variable(startPointT, startPointT-startPointT*i/100, startPointT+startPointT*i/100),\n",
    "                  variable(startPointT, startPointT-startPointT*i/100, startPointT+startPointT*i/100)]\n",
    "    slds = [variable(startPointSld, startPointSld-startPointSld*i/100, startPointSld+startPointSld*i/100),\n",
    "           variable(startPointSld, startPointSld-startPointSld*i/100, startPointSld+startPointSld*i/100),\n",
    "           variable(startPointSld, startPointSld-startPointSld*i/100, startPointSld+startPointSld*i/100)]\n",
    "    objective3, structure31 = gO(data, thicknesses, slds, layerNames=[\"layer1\",\"layer2\",\"layer3\"]) # was 06:09 now 0:36\n",
    "    # fitter = CFitter(objective1)\n",
    "    parameter_names3 = list( p.name for p in objective3.varying_parameters() )\n",
    "    UNSampler3 = ultranest.ReactiveNestedSampler(parameter_names3, objective3.logl, objective3.prior_transform,\n",
    "                log_dir=\"ultraNestpriours\\sizeVariation\\layer3\", resume=\"subfolder\")\n",
    "    result3 = UNSampler3.run() # was 0.01\n",
    "    UNSampler3.print_results()\n",
    "    UNSampler3.plot()\n",
    "    UNSampler3.plot_trace()\n",
    "    cornerplot(result3)"
   ]
  },
  {
   "cell_type": "code",
   "execution_count": null,
   "metadata": {},
   "outputs": [],
   "source": []
  },
  {
   "cell_type": "markdown",
   "metadata": {},
   "source": []
  },
  {
   "cell_type": "code",
   "execution_count": null,
   "metadata": {
    "scrolled": true
   },
   "outputs": [],
   "source": []
  },
  {
   "cell_type": "markdown",
   "metadata": {},
   "source": [
    "## 4 layered"
   ]
  },
  {
   "cell_type": "code",
   "execution_count": null,
   "metadata": {
    "scrolled": true
   },
   "outputs": [],
   "source": [
    "# %%time\n",
    "# for i in percentRanges:\n",
    "#     startPointT = 350./4\n",
    "#     startPointSld = 5\n",
    "#     thicknesses = [variable(startPointT, startPointT-startPointT*i/100, startPointT+startPointT*i/100)]\n",
    "#     slds = [variable(startPointSld, startPointSld-startPointSld*i/100, startPointSld+startPointSld*i/100)]\n",
    "#     objective4, structure41 = gO(data, thicknesses, slds, layerNames=[\"layer1\",\"layer2\",\"layer3\",\"layer4\"]) # was 06:09 now 0:36\n",
    "#     # fitter = CFitter(objective1)\n",
    "#     parameter_names4 = list( p.name for p in objective3.varying_parameters() )\n",
    "#     UNSampler4 = ultranest.ReactiveNestedSampler(parameter_names4, objective4.logl, objective4.prior_transform,\n",
    "#                 log_dir=\"ultraNestpriours\\sizeVariation\\layer4\", resume=\"subfolder\")\n",
    "#     result4 = UNSampler4.run() # was 0.01\n",
    "#     UNSampler4.print_results()\n",
    "#     UNSampler4.plot()\n",
    "#     UNSampler4.plot_trace()\n",
    "#     cornerplot(result4)"
   ]
  },
  {
   "cell_type": "code",
   "execution_count": null,
   "metadata": {},
   "outputs": [],
   "source": []
  },
  {
   "cell_type": "markdown",
   "metadata": {},
   "source": [
    " "
   ]
  },
  {
   "cell_type": "code",
   "execution_count": null,
   "metadata": {},
   "outputs": [],
   "source": []
  },
  {
   "cell_type": "code",
   "execution_count": null,
   "metadata": {},
   "outputs": [],
   "source": []
  },
  {
   "cell_type": "code",
   "execution_count": null,
   "metadata": {},
   "outputs": [],
   "source": []
  }
 ],
 "metadata": {
  "kernelspec": {
   "display_name": "Python 3",
   "language": "python",
   "name": "python3"
  },
  "language_info": {
   "codemirror_mode": {
    "name": "ipython",
    "version": 3
   },
   "file_extension": ".py",
   "mimetype": "text/x-python",
   "name": "python",
   "nbconvert_exporter": "python",
   "pygments_lexer": "ipython3",
   "version": "3.8.3"
  }
 },
 "nbformat": 4,
 "nbformat_minor": 2
}
